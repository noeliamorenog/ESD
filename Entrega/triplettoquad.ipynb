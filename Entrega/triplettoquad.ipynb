{
 "cells": [
  {
   "cell_type": "code",
   "execution_count": 4,
   "metadata": {},
   "outputs": [
    {
     "name": "stdout",
     "output_type": "stream",
     "text": [
      "El archivo ha sido modificado y guardado en: nquads.txt\n"
     ]
    }
   ],
   "source": [
    "input_file = 'ntriplets.txt'\n",
    "output_file = 'nquads.txt'\n",
    "\n",
    "with open(input_file, 'r') as file:\n",
    "    lines = file.readlines()\n",
    "\n",
    "new_lines = []\n",
    "for line in lines:\n",
    "    if line.strip().endswith('.'):\n",
    "        new_line = line.strip()[:-1] + ' <https://cancerdata.org/graph/> .\\n'\n",
    "        new_lines.append(new_line)\n",
    "    else:\n",
    "        new_lines.append(line)\n",
    "\n",
    "with open(output_file, 'w') as file:\n",
    "    file.writelines(new_lines)\n",
    "\n",
    "print(\"El archivo ha sido modificado y guardado en:\", output_file)"
   ]
  }
 ],
 "metadata": {
  "kernelspec": {
   "display_name": "Python 3",
   "language": "python",
   "name": "python3"
  },
  "language_info": {
   "codemirror_mode": {
    "name": "ipython",
    "version": 3
   },
   "file_extension": ".py",
   "mimetype": "text/x-python",
   "name": "python",
   "nbconvert_exporter": "python",
   "pygments_lexer": "ipython3",
   "version": "3.12.3"
  },
  "orig_nbformat": 4
 },
 "nbformat": 4,
 "nbformat_minor": 2
}
